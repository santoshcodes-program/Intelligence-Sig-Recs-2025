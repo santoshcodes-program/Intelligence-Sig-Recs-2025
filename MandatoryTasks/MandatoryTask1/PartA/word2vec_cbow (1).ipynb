{
 "cells": [
  {
   "cell_type": "code",
   "execution_count": 1,
   "id": "9ddca1ba-dd99-4ab2-882c-546597eb16ca",
   "metadata": {},
   "outputs": [
    {
     "name": "stderr",
     "output_type": "stream",
     "text": [
      "[nltk_data] Downloading package punkt to\n",
      "[nltk_data]     C:\\Users\\LOCALACCOUNT\\AppData\\Roaming\\nltk_data...\n",
      "[nltk_data]   Package punkt is already up-to-date!\n",
      "[nltk_data] Downloading package punkt_tab to\n",
      "[nltk_data]     C:\\Users\\LOCALACCOUNT\\AppData\\Roaming\\nltk_data...\n",
      "[nltk_data]   Package punkt_tab is already up-to-date!\n"
     ]
    },
    {
     "data": {
      "text/plain": [
       "True"
      ]
     },
     "execution_count": 1,
     "metadata": {},
     "output_type": "execute_result"
    }
   ],
   "source": [
    "# Using Hugging Face datasets library, we load the NewsQA dataset \n",
    "# But since we dont need the entire thing, we are only taking the first 1000 samples,\n",
    "# From each data entry, we extract the \"context\" field,\n",
    "# here, we are collecting a bunch of real-world English sentences from news articles\n",
    "\n",
    "from datasets import load_dataset\n",
    "from nltk.tokenize import sent_tokenize\n",
    "from gensim.models import Word2Vec\n",
    "from gensim.utils import simple_preprocess\n",
    "import pandas as pd\n",
    "import nltk\n",
    "import multiprocessing\n",
    "\n",
    "# Downloading the necessary tokenizer models from NLTK\n",
    "nltk.download('punkt')\n",
    "nltk.download('punkt_tab')\n"
   ]
  },
  {
   "cell_type": "code",
   "execution_count": 2,
   "id": "f71a988d-a019-4d96-a705-cf46fec22223",
   "metadata": {},
   "outputs": [],
   "source": [
    "dataset = load_dataset(\"lucadiliello/newsqa\", split=\"train\")\n",
    "\n",
    "dataset = dataset.select(range(1000))\n",
    "\n",
    "texts = [item['context'] for item in dataset if item.get('context')]\n",
    "\n",
    "\n"
   ]
  },
  {
   "cell_type": "code",
   "execution_count": 3,
   "id": "7e496a79-d08d-49ec-afd4-b13ba257dbb8",
   "metadata": {},
   "outputs": [],
   "source": [
    "#now, Word2Vec can not directly work on long paragraphs, it needs to be clean, tokenized sentences for this we will do text preprocessing\n",
    "#For each sentence, we use Gensim simple_preprocess() to lowercase, clean, and tokenize the sentence and we are ignoring the sentences less than 2 words!\n",
    "sentences = []\n",
    "for text in texts:\n",
    "    for sent in sent_tokenize(text):\n",
    "        tokens = simple_preprocess(sent) \n",
    "        if len(tokens) > 2:\n",
    "            sentences.append(tokens)\n"
   ]
  },
  {
   "cell_type": "code",
   "execution_count": 9,
   "id": "ffa7323e-9cf9-4d09-8bb7-ea888f08964d",
   "metadata": {},
   "outputs": [],
   "source": [
    "#we train a Word2Vec model using the CBOW (Continuous bag of words) approach\n",
    "cbow_model = Word2Vec(\n",
    "    sentences=sentences,\n",
    "    vector_size=100,            \n",
    "    window=10,                 \n",
    "    min_count=2,                \n",
    "    sg=0,                       # CBOW\n",
    "    workers=multiprocessing.cpu_count(),\n",
    "    epochs=10\n",
    ")\n",
    "\n"
   ]
  },
  {
   "cell_type": "code",
   "execution_count": 10,
   "id": "7ee4a1e0-2673-44fd-bca3-822a9d3f31be",
   "metadata": {},
   "outputs": [],
   "source": [
    "\n",
    "\"\"\"Once the model has learned word meanings, we can extract the vocabulary and their corresponding 100-D vectors.\n",
    "We store these in a dataframe and save them into a  csv file\"\"\"\n",
    "words = list(cbow_model.wv.key_to_index.keys())\n",
    "vectors = [cbow_model.wv[word].tolist() for word in words]\n",
    "df = pd.DataFrame({'word': words, 'embedding': vectors})\n",
    "df.to_csv(\"cbow_embeddings.csv\", index=False)"
   ]
  },
  {
   "cell_type": "code",
   "execution_count": 11,
   "id": "b323e92d-c766-4c0f-8ba8-e093de99ea0b",
   "metadata": {},
   "outputs": [
    {
     "name": "stdout",
     "output_type": "stream",
     "text": [
      "Most similar to 'india':\n",
      "[('delhi', 0.795962929725647), ('northern', 0.7071834802627563), ('sri', 0.6367465853691101), ('colombo', 0.6304137706756592), ('exile', 0.6263425946235657)]\n"
     ]
    }
   ],
   "source": [
    "# Here i tried doing some experiments do the model we trained \n",
    "try:\n",
    "    print(\"Most similar to 'india':\")\n",
    "    print(cbow_model.wv.most_similar(\"india\", topn=5))\n",
    "except KeyError:\n",
    "    print(\"'india' not in vocabulary\")\n"
   ]
  },
  {
   "cell_type": "code",
   "execution_count": 12,
   "id": "be3c2299-9e8a-407b-9f8a-16908c7d2a13",
   "metadata": {},
   "outputs": [
    {
     "name": "stdout",
     "output_type": "stream",
     "text": [
      "Word that doesn't match: ['king', 'queen', 'man', 'apple']:\n",
      "man\n"
     ]
    }
   ],
   "source": [
    "try:\n",
    "    print(\"Word that doesn't match: ['king', 'queen', 'man', 'apple']:\")\n",
    "    print(cbow_model.wv.doesnt_match(['king', 'queen', 'man', 'apple']))\n",
    "except KeyError:\n",
    "    print(\"Some words not in vocabulary\")\n"
   ]
  },
  {
   "cell_type": "code",
   "execution_count": 13,
   "id": "5a9df8e5-8825-41ad-ae76-3c3878633c78",
   "metadata": {},
   "outputs": [
    {
     "name": "stdout",
     "output_type": "stream",
     "text": [
      "Similarity between 'india' and 'pakistan':\n",
      "0.49218136\n"
     ]
    }
   ],
   "source": [
    "try:\n",
    "    print(\"Similarity between 'india' and 'pakistan':\")\n",
    "    print(cbow_model.wv.similarity(\"india\", \"pakistan\"))\n",
    "except KeyError:\n",
    "    print(\"'india' or 'pakistan' not in vocabulary\")\n"
   ]
  },
  {
   "cell_type": "code",
   "execution_count": null,
   "id": "b3352b71-bcd6-4518-8ea8-88761d779457",
   "metadata": {},
   "outputs": [],
   "source": []
  }
 ],
 "metadata": {
  "kernelspec": {
   "display_name": "Python 3 (ipykernel)",
   "language": "python",
   "name": "python3"
  },
  "language_info": {
   "codemirror_mode": {
    "name": "ipython",
    "version": 3
   },
   "file_extension": ".py",
   "mimetype": "text/x-python",
   "name": "python",
   "nbconvert_exporter": "python",
   "pygments_lexer": "ipython3",
   "version": "3.12.4"
  }
 },
 "nbformat": 4,
 "nbformat_minor": 5
}
