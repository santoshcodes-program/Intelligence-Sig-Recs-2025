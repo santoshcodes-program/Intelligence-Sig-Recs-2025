{
 "cells": [
  {
   "cell_type": "code",
   "execution_count": 1,
   "id": "9ddca1ba-dd99-4ab2-882c-546597eb16ca",
   "metadata": {},
   "outputs": [
    {
     "name": "stderr",
     "output_type": "stream",
     "text": [
      "[nltk_data] Downloading package punkt to\n",
      "[nltk_data]     C:\\Users\\LOCALACCOUNT\\AppData\\Roaming\\nltk_data...\n",
      "[nltk_data]   Package punkt is already up-to-date!\n",
      "[nltk_data] Downloading package punkt_tab to\n",
      "[nltk_data]     C:\\Users\\LOCALACCOUNT\\AppData\\Roaming\\nltk_data...\n",
      "[nltk_data]   Package punkt_tab is already up-to-date!\n"
     ]
    },
    {
     "data": {
      "text/plain": [
       "True"
      ]
     },
     "execution_count": 1,
     "metadata": {},
     "output_type": "execute_result"
    }
   ],
   "source": [
    "# Using Hugging Face datasets library, we load the NewsQA dataset \n",
    "# But since we dont need the entire thing, we are only taking the first 1000 samples,\n",
    "# From each data entry, we extract the \"context\" field,\n",
    "# here, we are collecting a bunch of real-world English sentences from news articles\n",
    "\n",
    "from datasets import load_dataset\n",
    "from nltk.tokenize import sent_tokenize\n",
    "from gensim.models import Word2Vec\n",
    "from gensim.utils import simple_preprocess\n",
    "import pandas as pd\n",
    "import nltk\n",
    "import multiprocessing\n",
    "\n",
    "# Downloading the necessary tokenizer models from NLTK\n",
    "nltk.download('punkt')\n",
    "nltk.download('punkt_tab')\n"
   ]
  },
  {
   "cell_type": "code",
   "execution_count": 2,
   "id": "f71a988d-a019-4d96-a705-cf46fec22223",
   "metadata": {},
   "outputs": [],
   "source": [
    "dataset = load_dataset(\"lucadiliello/newsqa\", split=\"train\")\n",
    "\n",
    "dataset = dataset.select(range(1000))\n",
    "\n",
    "texts = [item['context'] for item in dataset if item.get('context')]\n",
    "\n",
    "\n"
   ]
  },
  {
   "cell_type": "code",
   "execution_count": 3,
   "id": "7e496a79-d08d-49ec-afd4-b13ba257dbb8",
   "metadata": {},
   "outputs": [],
   "source": [
    "#now, Word2Vec can not directly work on long paragraphs, it needs to be clean, tokenized sentences for this we will do text preprocessing\n",
    "#For each sentence, we use Gensim simple_preprocess() to lowercase, clean, and tokenize the sentence and we are ignoring the sentences less than 2 words!\n",
    "sentences = []\n",
    "for text in texts:\n",
    "    for sent in sent_tokenize(text):\n",
    "        tokens = simple_preprocess(sent) \n",
    "        if len(tokens) > 2:\n",
    "            sentences.append(tokens)\n"
   ]
  },
  {
   "cell_type": "code",
   "execution_count": null,
   "id": "ffa7323e-9cf9-4d09-8bb7-ea888f08964d",
   "metadata": {},
   "outputs": [],
   "source": [
    "#we train a Word2Vec model using the CBOW (Continuous bag of words) approach\n",
    "cbow_model = Word2Vec(\n",
    "    sentences=sentences,\n",
    "    vector_size=100,            \n",
    "    window=10,                 \n",
    "    min_count=2,                \n",
    "    sg=0,                       # CBOW\n",
    "    workers=multiprocessing.cpu_count(),\n",
    "    epochs=10\n",
    ")\n",
    "\n"
   ]
  }
 ],
 "metadata": {
  "kernelspec": {
   "display_name": "Python 3 (ipykernel)",
   "language": "python",
   "name": "python3"
  },
  "language_info": {
   "codemirror_mode": {
    "name": "ipython",
    "version": 3
   },
   "file_extension": ".py",
   "mimetype": "text/x-python",
   "name": "python",
   "nbconvert_exporter": "python",
   "pygments_lexer": "ipython3",
   "version": "3.12.4"
  }
 },
 "nbformat": 4,
 "nbformat_minor": 5
}
