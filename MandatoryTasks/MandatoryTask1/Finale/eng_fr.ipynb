{
 "cells": [
  {
   "cell_type": "code",
   "execution_count": null,
   "id": "e287ee54-fbda-4020-bb5b-257ffefc0104",
   "metadata": {},
   "outputs": [],
   "source": [
    "from datasets import load_dataset\n",
    "from transformers import AutoTokenizer, AutoModelForQuestionAnswering, MarianTokenizer, MarianMTModel\n",
    "import torch, random\n",
    "import numpy as np\n",
    "\n"
   ]
  },
  {
   "cell_type": "code",
   "execution_count": null,
   "id": "3d74ea94-5bb4-4af8-95be-e7be85e4835f",
   "metadata": {},
   "outputs": [],
   "source": [
    "# loading the question answer model\n",
    "qa_model_name = \"deepset/roberta-base-squad2\"\n",
    "qa_tokenizer = AutoTokenizer.from_pretrained(qa_model_name, use_fast=True)\n",
    "qa_model = AutoModelForQuestionAnswering.from_pretrained(qa_model_name).to(device)\n",
    "print(\"Loaded QA model:\", qa_model_name)\n"
   ]
  },
  {
   "cell_type": "code",
   "execution_count": null,
   "id": "eda61b40-e1e7-4f28-9600-b626f58e76c3",
   "metadata": {},
   "outputs": [],
   "source": [
    "# load the translation model\n",
    "trans_model_name = \"Helsinki-NLP/opus-mt-en-fr\"\n",
    "trans_tokenizer = MarianTokenizer.from_pretrained(trans_model_name)\n",
    "trans_model = MarianMTModel.from_pretrained(trans_model_name).to(device)\n",
    "print(\"Loaded translation model:\", trans_model_name)\n"
   ]
  },
  {
   "cell_type": "code",
   "execution_count": null,
   "id": "e96bb8a5-e141-47f7-a6d5-960f398e5149",
   "metadata": {},
   "outputs": [],
   "source": [
    "# Function to extract an answer from the given context\n",
    "def answer_question(question, context, max_length=512):\n",
    "    inputs = qa_tokenizer(question, context, return_tensors=\"pt\", truncation=True, max_length=max_length)\n",
    "    with torch.no_grad():\n",
    "        outputs = qa_model(**inputs)\n",
    "    start_logits = outputs.start_logits[0].numpy()\n",
    "    end_logits = outputs.end_logits[0].numpy()\n",
    "\n",
    "    start_index = int(np.argmax(start_logits))\n",
    "    end_index = int(np.argmax(end_logits))\n",
    "\n",
    "    if start_index > end_index:\n",
    "        return \"\"\n",
    "\n",
    "    input_ids = inputs[\"input_ids\"][0].numpy().tolist()\n",
    "    answer = qa_tokenizer.decode(input_ids[start_index:end_index+1], skip_special_tokens=True).strip()\n",
    "    return answer\n"
   ]
  },
  {
   "cell_type": "code",
   "execution_count": null,
   "id": "00578df3-41d6-485a-a6e4-98fd92e3ee05",
   "metadata": {},
   "outputs": [],
   "source": [
    "# Function to translate text from English to French\n",
    "def translate_to_french(text):\n",
    "    if not text.strip():\n",
    "        return \"\"\n",
    "    inputs = trans_tokenizer([text], return_tensors=\"pt\", padding=True, truncation=True)\n",
    "    with torch.no_grad():\n",
    "        translated = trans_model.generate(**inputs)\n",
    "    return trans_tokenizer.decode(translated[0], skip_special_tokens=True)\n"
   ]
  },
  {
   "cell_type": "code",
   "execution_count": null,
   "id": "1704fce4-b1e8-48c7-aa44-84a47f4ba49d",
   "metadata": {},
   "outputs": [],
   "source": [
    "\n",
    "def english_question_to_french_answer(question, context):\n",
    "    english_answer = answer_question(question, context)\n",
    "    if english_answer == \"\":\n",
    "        return {\"english_answer\": \"\", \"french_answer\": \"No clear answer found.\"}\n",
    "    french_answer = translate_to_french(english_answer)\n",
    "    return {\"english_answer\": english_answer, \"french_answer\": french_answer}\n"
   ]
  },
  {
   "cell_type": "code",
   "execution_count": null,
   "id": "b948110d-b027-44fe-ac3b-49d152b23643",
   "metadata": {},
   "outputs": [],
   "source": [
    "# trying on an example\n",
    "context = (\n",
    "    \"Apple Inc. was founded by Steve Jobs, Steve Wozniak, and Ronald Wayne in April 1976. \"\n",
    "    \"It became one of the biggest technology companies in the world.\"\n",
    ")\n",
    "question = \"Who founded Apple Inc.?\"\n",
    "\n",
    "result = english_question_to_french_answer(question, context)\n",
    "print(\"Question:\", question)\n",
    "print(\"English Answer:\", result[\"english_answer\"])\n",
    "print(\"French Answer:\", result[\"french_answer\"])\n"
   ]
  },
  {
   "cell_type": "code",
   "execution_count": null,
   "id": "ad0aa7e6-03c0-4454-b541-1e5750840bd5",
   "metadata": {},
   "outputs": [],
   "source": [
    "# Now trying random samplse on the dataset\n",
    "dataset = load_dataset(\"ag_news\", split=\"train\")\n",
    "\n",
    "def get_random_contexts(n=3):\n",
    "    return [random.choice(dataset)[\"text\"] for _ in range(n)]\n",
    "\n",
    "contexts = get_random_contexts(3)\n",
    "for ctx in contexts:\n",
    "    question = \"What is this text about?\"\n",
    "    result = english_question_to_french_answer(question, ctx)\n",
    "    print(\"Context:\", ctx)\n",
    "    print(\"Question:\", question)\n",
    "    print(\"English Answer:\", result[\"english_answer\"])\n",
    "    print(\"French Answer:\", result[\"french_answer\"])\n",
    "    print(\"-\" * 100)\n"
   ]
  },
  {
   "cell_type": "code",
   "execution_count": null,
   "id": "c40193cb-2e62-4638-9976-4eca761ac58b",
   "metadata": {},
   "outputs": [],
   "source": []
  },
  {
   "cell_type": "code",
   "execution_count": null,
   "id": "1ade2db0-735a-45a6-ab52-e1f1989bd336",
   "metadata": {},
   "outputs": [],
   "source": []
  },
  {
   "cell_type": "code",
   "execution_count": null,
   "id": "4a44a4d3-92df-4ac1-91dd-29bf0b177d27",
   "metadata": {},
   "outputs": [],
   "source": []
  }
 ],
 "metadata": {
  "kernelspec": {
   "display_name": "Python 3 (ipykernel)",
   "language": "python",
   "name": "python3"
  },
  "language_info": {
   "codemirror_mode": {
    "name": "ipython",
    "version": 3
   },
   "file_extension": ".py",
   "mimetype": "text/x-python",
   "name": "python",
   "nbconvert_exporter": "python",
   "pygments_lexer": "ipython3",
   "version": "3.12.4"
  }
 },
 "nbformat": 4,
 "nbformat_minor": 5
}
